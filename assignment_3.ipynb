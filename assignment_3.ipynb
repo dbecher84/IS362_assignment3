{
 "cells": [
  {
   "cell_type": "markdown",
   "metadata": {},
   "source": [
    "Python dictionary that stores the miles for each day."
   ]
  },
  {
   "cell_type": "code",
   "execution_count": 1,
   "metadata": {},
   "outputs": [],
   "source": [
    "import pandas as pd"
   ]
  },
  {
   "cell_type": "code",
   "execution_count": 6,
   "metadata": {},
   "outputs": [
    {
     "name": "stdout",
     "output_type": "stream",
     "text": [
      "{'Day 1': 55.0, 'Day 2': 120.0, 'Day 3': 185.0, 'Day 4': 245.0, 'Day 5': 300.0, 'Day 6': 362.0, 'Day 7': 415.0, 'Day 8': 470.0}\n"
     ]
    }
   ],
   "source": [
    "odometer_day = {}\n",
    "odometer_day['Day 1'] = 55.0\n",
    "odometer_day['Day 2'] = 120.0\n",
    "odometer_day['Day 3'] = 185.0\n",
    "odometer_day['Day 4'] = 245.0\n",
    "odometer_day['Day 5'] = 300.0\n",
    "odometer_day['Day 6'] = 362.0\n",
    "odometer_day['Day 7'] = 415.0\n",
    "odometer_day['Day 8'] = 470.0\n",
    "\n",
    "print (odometer_day)"
   ]
  },
  {
   "cell_type": "markdown",
   "metadata": {},
   "source": [
    "turn the python dictionary into a pandas series"
   ]
  },
  {
   "cell_type": "code",
   "execution_count": 7,
   "metadata": {},
   "outputs": [
    {
     "name": "stdout",
     "output_type": "stream",
     "text": [
      "Day 1     55.0\n",
      "Day 2    120.0\n",
      "Day 3    185.0\n",
      "Day 4    245.0\n",
      "Day 5    300.0\n",
      "Day 6    362.0\n",
      "Day 7    415.0\n",
      "Day 8    470.0\n",
      "dtype: float64\n"
     ]
    }
   ],
   "source": [
    "pseries1 = pd.Series(odometer_day)\n",
    "\n",
    "print (pseries1)"
   ]
  },
  {
   "cell_type": "markdown",
   "metadata": {},
   "source": [
    "calculates the distance for each day by subtracting the previous days total from current days total"
   ]
  },
  {
   "cell_type": "code",
   "execution_count": 8,
   "metadata": {},
   "outputs": [
    {
     "name": "stdout",
     "output_type": "stream",
     "text": [
      "The distance traveled on\n",
      "Day 1 was 55.0 miles\n",
      "Day 2 was 65.0 miles\n",
      "Day 3 was 65.0 miles\n",
      "Day 4 was 60.0 miles\n",
      "Day 5 was 55.0 miles\n",
      "Day 6 was 62.0 miles\n",
      "Day 7 was 53.0 miles\n",
      "Day 8 was 55.0 miles\n"
     ]
    }
   ],
   "source": [
    "print (\"The distance traveled on\")\n",
    "\n",
    "prev_distance = 0\n",
    "\n",
    "for day, miles in pseries1.items():\n",
    "    distance = {}\n",
    "    miles_current = miles - prev_distance\n",
    "    distance[day] = miles_current\n",
    "    prev_distance = miles\n",
    "    \n",
    "    print (day, \"was\", distance[day], \"miles\")"
   ]
  },
  {
   "cell_type": "code",
   "execution_count": null,
   "metadata": {},
   "outputs": [],
   "source": []
  }
 ],
 "metadata": {
  "kernelspec": {
   "display_name": "Python 3",
   "language": "python",
   "name": "python3"
  },
  "language_info": {
   "codemirror_mode": {
    "name": "ipython",
    "version": 3
   },
   "file_extension": ".py",
   "mimetype": "text/x-python",
   "name": "python",
   "nbconvert_exporter": "python",
   "pygments_lexer": "ipython3",
   "version": "3.6.5"
  }
 },
 "nbformat": 4,
 "nbformat_minor": 2
}
